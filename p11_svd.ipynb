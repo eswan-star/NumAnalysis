{
 "cells": [
  {
   "cell_type": "markdown",
   "id": "87c8fbc9-84a1-480b-b9c1-de597642394a",
   "metadata": {},
   "source": [
    "<div style=\"background-color:maroon; padding:10px;\">\n",
    "</div>\n",
    "\n",
    "# AM 205 - Advanced Scientific Computing: Numerical Methods\n",
    "<div style=\"background-color:maroon; padding:10px;\">\n",
    "</div>"
   ]
  },
  {
   "cell_type": "markdown",
   "id": "beb6eaaf-f9a7-4390-bed7-3dd2e0477c9e",
   "metadata": {},
   "source": [
    "**Harvard University**<br/>\n",
    "**Fall 2024**<br/>\n",
    "**Instructors**: Prof. Nick Trefethen<br/>\n",
    "**Author**: Elaine Swanson"
   ]
  },
  {
   "cell_type": "markdown",
   "id": "ee895bf9-d6cb-40fc-8d34-02c55e69a3da",
   "metadata": {},
   "source": [
    "### 1. **p11_svd.m** - explore random 2x2 SVD's\n",
    "#### plots the unit circle, then applies a random matrix to it and visualizes the singular value decomposition (SVD) in two plots. One plot shows the unit circle and the right singular vectors, and the other shows the transformed circle (A * x) and the left singular vectors scaled by their corresponding singular values.\n",
    "Once you press Enter, a new random matrix A is generated, and the process repeats as long as you keep pressing enter. The new random matrix will have its own SVD, and new plots will be drawn, showing the unit circle, the right singular vectors, the transformed circle (A * x), and the left singular vectors."
   ]
  },
  {
   "cell_type": "code",
   "execution_count": null,
   "id": "316d1264-780e-49dc-9a90-09245c10b7b9",
   "metadata": {},
   "outputs": [],
   "source": [
    "import numpy as np\n",
    "import matplotlib.pyplot as plt"
   ]
  },
  {
   "cell_type": "code",
   "execution_count": null,
   "id": "2450bb58-28ca-465b-9bbe-8dd240eea747",
   "metadata": {},
   "outputs": [],
   "source": [
    "## generate 100 points on the unit circle\n",
    "theta = np.linspace(0, 2 * np.pi, 100)\n",
    "x = np.array([np.cos(theta), np.sin(theta)])  # Unit circle points\n",
    "\n",
    "## line width for plots\n",
    "LW = 2\n",
    "\n",
    "while True:\n",
    "    ## random 2x2 matrix\n",
    "    A = np.random.randn(2, 2)\n",
    "    \n",
    "    ## SVD\n",
    "    U, S, Vt = np.linalg.svd(A)\n",
    "    s1, s2 = S  # Singular values\n",
    "    u1, u2 = U[:, 0], U[:, 1]  # Left singular vectors\n",
    "    v1, v2 = Vt[0, :], Vt[1, :]  # Right singular vectors\n",
    "\n",
    "    plt.figure(figsize=(12, 6)) \n",
    "\n",
    "    ## plot 1: Unit circle and right singular vectors\n",
    "    plt.subplot(1, 2, 1)\n",
    "    plt.cla()  # Clear previous plots\n",
    "    plt.plot(x[0, :], x[1, :], 'k', linewidth=LW, label=\"Unit circle\")\n",
    "    plt.plot([0, v1[0]], [0, v1[1]], 'b', linewidth=LW, label=\"v1 (right singular vector)\")\n",
    "    plt.plot([0, v2[0]], [0, v2[1]], 'r', linewidth=LW, label=\"v2 (right singular vector)\")\n",
    "    plt.axis('equal')\n",
    "    plt.grid(True)\n",
    "    plt.legend(loc='upper left')\n",
    "\n",
    "    ## transformed circle (A * x) and left singular vectors scaled by singular values\n",
    "    Ax = A @ x\n",
    "    plt.subplot(1, 2, 2)\n",
    "    plt.cla()  # Clear previous plots\n",
    "    plt.plot(Ax[0, :], Ax[1, :], 'k', linewidth=LW, label=\"Transformed circle (A * x)\")\n",
    "    plt.plot([0, s1 * u1[0]], [0, s1 * u1[1]], 'b', linewidth=LW, label=\"s1 * u1 (left singular vector)\")\n",
    "    plt.plot([0, s2 * u2[0]], [0, s2 * u2[1]], 'r', linewidth=LW, label=\"s2 * u2 (left singular vector)\")\n",
    "    plt.axis('equal')\n",
    "    plt.grid(True)\n",
    "    plt.legend(loc='upper left')\n",
    "\n",
    "    plt.tight_layout()  \n",
    "    plt.pause(0.1)  \n",
    "\n",
    "    input('Click into the text box and press Enter for the next matrix, or Ctrl+C to quit')"
   ]
  },
  {
   "cell_type": "code",
   "execution_count": null,
   "id": "38ae4252-bb91-4a08-a3a3-96c6b666458a",
   "metadata": {},
   "outputs": [],
   "source": []
  }
 ],
 "metadata": {
  "kernelspec": {
   "display_name": "Python 3 (ipykernel)",
   "language": "python",
   "name": "python3"
  },
  "language_info": {
   "codemirror_mode": {
    "name": "ipython",
    "version": 3
   },
   "file_extension": ".py",
   "mimetype": "text/x-python",
   "name": "python",
   "nbconvert_exporter": "python",
   "pygments_lexer": "ipython3",
   "version": "3.10.12"
  }
 },
 "nbformat": 4,
 "nbformat_minor": 5
}
