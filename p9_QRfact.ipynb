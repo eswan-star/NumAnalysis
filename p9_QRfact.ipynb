{
 "cells": [
  {
   "cell_type": "markdown",
   "id": "f7457ac3-755f-47fb-b881-18d21552a337",
   "metadata": {},
   "source": [
    "<div style=\"background-color:maroon; padding:10px;\">\n",
    "</div>\n",
    "\n",
    "# AM 205 - Advanced Scientific Computing: Numerical Methods\n",
    "<div style=\"background-color:maroon; padding:10px;\">\n",
    "</div>"
   ]
  },
  {
   "cell_type": "markdown",
   "id": "11087178-580a-4e99-b73e-e687bc839283",
   "metadata": {},
   "source": [
    "**Harvard University**<br/>\n",
    "**Fall 2024**<br/>\n",
    "**Instructors**: Prof. Nick Trefethen<br/>\n",
    "**Author**: Elaine Swanson"
   ]
  },
  {
   "cell_type": "markdown",
   "id": "f011c4c4-998e-42da-bb34-87f82e6efdb5",
   "metadata": {},
   "source": [
    "### 1. **p9_QRfact.m** - QR factorization\n",
    "#### This code performs a series of matrix operations using QR decomposition, which is an algorithm for decomposing a matrix into an orthogonal matrix $Q$ and an upper triangular matrix $R$.\n",
    "The Matlab code is much simpler than this. "
   ]
  },
  {
   "cell_type": "code",
   "execution_count": 3,
   "id": "b4829397-c80c-478b-9bd7-2684bbc914e8",
   "metadata": {},
   "outputs": [],
   "source": [
    "import numpy as np\n",
    "import scipy.linalg as la\n",
    "import matplotlib.pyplot as plt\n",
    "import time"
   ]
  },
  {
   "cell_type": "code",
   "execution_count": 5,
   "id": "c1e63f88-bdf4-46a7-8871-abb37cbddb3d",
   "metadata": {},
   "outputs": [
    {
     "name": "stdout",
     "output_type": "stream",
     "text": [
      "Matrix A:\n",
      " [[  1   4   9]\n",
      " [ 16  25  36]\n",
      " [ 49  64  81]\n",
      " [100 121 144]\n",
      " [169 196 225]\n",
      " [256 289 324]\n",
      " [361 400 441]]\n",
      "Full QR Decomposition:\n",
      "Q:\n",
      "\n",
      " [[-0.00205379 -0.17154916  0.85584545]\n",
      " [-0.03286065 -0.41619023  0.33379658]\n",
      " [-0.10063575 -0.52450588 -0.02191594]\n",
      " [-0.20537908 -0.49649613 -0.21129211]\n",
      " [-0.34709065 -0.33216097 -0.23433194]\n",
      " [-0.52577045 -0.03150039 -0.09103543]\n",
      " [-0.74141848  0.40548559  0.21859743]]\n",
      "R:\n",
      "\n",
      " [[-486.90450809 -548.66610508 -614.33811975]\n",
      " [   0.          -16.7482876   -36.63040954]\n",
      " [   0.            0.            1.69932806]]\n",
      "Economy-Sized QR Decomposition:\n",
      "Q (economic):\n",
      "\n",
      " [[-0.00205379 -0.17154916  0.85584545]\n",
      " [-0.03286065 -0.41619023  0.33379658]\n",
      " [-0.10063575 -0.52450588 -0.02191594]\n",
      " [-0.20537908 -0.49649613 -0.21129211]\n",
      " [-0.34709065 -0.33216097 -0.23433194]\n",
      " [-0.52577045 -0.03150039 -0.09103543]\n",
      " [-0.74141848  0.40548559  0.21859743]]\n",
      "R (economic):\n",
      "\n",
      " [[-486.90450809 -548.66610508 -614.33811975]\n",
      " [   0.          -16.7482876   -36.63040954]\n",
      " [   0.            0.            1.69932806]]\n"
     ]
    },
    {
     "data": {
      "image/png": "[encoded data removed]",
      "text/plain": [
       "<Figure size 1000x500 with 2 Axes>"
      ]
     },
     "metadata": {},
     "output_type": "display_data"
    }
   ],
   "source": [
    "## create matrix A and reshape it\n",
    "A = np.reshape(np.arange(1, 22)**2, (7, 3))\n",
    "print(\"Matrix A:\\n\", A)\n",
    "\n",
    "## full QR decomp \n",
    "Q, R = np.linalg.qr(A)\n",
    "print(\"Full QR Decomposition:\")\n",
    "print(\"Q:\\n\\n\", Q)\n",
    "print(\"R:\\n\\n\", R)\n",
    "\n",
    "## (skinny) QR decomp\n",
    "Q_econ, R_econ = la.qr(A, mode='economic')\n",
    "print(\"Economy-Sized QR Decomposition:\")\n",
    "print(\"Q (economic):\\n\\n\", Q_econ)\n",
    "print(\"R (economic):\\n\\n\", R_econ)\n",
    "\n",
    "## viz of sparsity pattern of Q and R using spy\n",
    "plt.figure(figsize=(10, 5))\n",
    "\n",
    "plt.subplot(121)\n",
    "plt.spy(Q_econ, markersize=5, color='purple')  \n",
    "plt.title('Sparsity of Q', fontsize=14)\n",
    "plt.xlabel('Columns of Q', fontsize=12)\n",
    "plt.ylabel('Rows of Q', fontsize=12)\n",
    "plt.grid(True, color='black', linestyle='-', alpha=0.6)  \n",
    "plt.gca().set_facecolor('lightgray')  \n",
    "\n",
    "\n",
    "plt.subplot(122)\n",
    "plt.spy(R_econ, markersize=5, color='purple')  \n",
    "plt.title('Sparsity of R', fontsize=14)\n",
    "plt.xlabel('Columns of R', fontsize=12)\n",
    "plt.ylabel('Rows of R', fontsize=12)\n",
    "plt.grid(True, color='black', linestyle='-', alpha=0.6)  \n",
    "plt.gca().set_facecolor('lightgray')  \n",
    "\n",
    "plt.tight_layout()\n",
    "plt.show()"
   ]
  },
  {
   "cell_type": "code",
   "execution_count": 7,
   "id": "4078effb-4243-4cc3-8d77-47bc7909911d",
   "metadata": {},
   "outputs": [
    {
     "name": "stdout",
     "output_type": "stream",
     "text": [
      "Norm of first column of A: 486.9045080916791\n",
      "Norm of second column of A: 548.9216701861933\n",
      "Norm of second column of R: 548.9216701861934\n"
     ]
    }
   ],
   "source": [
    "## norm calc for columns of A and R\n",
    "## round these \n",
    "print(\"Norm of first column of A:\", np.linalg.norm(A[:, 0]))\n",
    "print(\"Norm of second column of A:\", np.linalg.norm(A[:, 1]))\n",
    "print(\"Norm of second column of R:\", np.linalg.norm(R_econ[:, 1]))"
   ]
  },
  {
   "cell_type": "code",
   "execution_count": 8,
   "id": "faa1331f-fe7b-4830-8126-e8f303cf18ec",
   "metadata": {},
   "outputs": [
    {
     "name": "stdout",
     "output_type": "stream",
     "text": [
      "Q'*Q:\n",
      " [[ 1.00000000e+00 -3.43644783e-17 -1.85701952e-16]\n",
      " [-3.43644783e-17  1.00000000e+00  2.37226630e-17]\n",
      " [-1.85701952e-16  2.37226630e-17  1.00000000e+00]]\n",
      "Q*Q':\n",
      " [[ 7.61904762e-01  3.57142857e-01  7.14285714e-02 -9.52380952e-02\n",
      "  -1.42857143e-01 -7.14285714e-02  1.19047619e-01]\n",
      " [ 3.57142857e-01  2.85714286e-01  2.14285714e-01  1.42857143e-01\n",
      "   7.14285714e-02 -8.71893456e-15 -7.14285714e-02]\n",
      " [ 7.14285714e-02  2.14285714e-01  2.85714286e-01  2.85714286e-01\n",
      "   2.14285714e-01  7.14285714e-02 -1.42857143e-01]\n",
      " [-9.52380952e-02  1.42857143e-01  2.85714286e-01  3.33333333e-01\n",
      "   2.85714286e-01  1.42857143e-01 -9.52380952e-02]\n",
      " [-1.42857143e-01  7.14285714e-02  2.14285714e-01  2.85714286e-01\n",
      "   2.85714286e-01  2.14285714e-01  7.14285714e-02]\n",
      " [-7.14285714e-02 -8.71893456e-15  7.14285714e-02  1.42857143e-01\n",
      "   2.14285714e-01  2.85714286e-01  3.57142857e-01]\n",
      " [ 1.19047619e-01 -7.14285714e-02 -1.42857143e-01 -9.52380952e-02\n",
      "   7.14285714e-02  3.57142857e-01  7.61904762e-01]]\n",
      "Rank of Q*Q': 3\n"
     ]
    }
   ],
   "source": [
    "## orthogonality check for Q'*Q and Q*Q'\n",
    "Q_t_Q = np.dot(Q_econ.T, Q_econ)\n",
    "Q_Q_t = np.dot(Q_econ, Q_econ.T)\n",
    "print(\"Q'*Q:\\n\", Q_t_Q)\n",
    "print(\"Q*Q':\\n\", Q_Q_t)\n",
    "\n",
    "## rank of Q*Q'\n",
    "rank_Q_Q_t = np.linalg.matrix_rank(Q_Q_t)\n",
    "print(\"Rank of Q*Q':\", rank_Q_Q_t)"
   ]
  },
  {
   "cell_type": "code",
   "execution_count": 9,
   "id": "dee910fe-f9f8-4132-9a4c-a28ef35b55b9",
   "metadata": {},
   "outputs": [
    {
     "name": "stdout",
     "output_type": "stream",
     "text": [
      "Time for QR decomposition on large matrix: 3.58 seconds\n",
      "Maximum error in orthogonality (Q'*Q - I): 8.881784197001252e-16\n"
     ]
    }
   ],
   "source": [
    "## QR decomp of a large matrix\n",
    "A_large = np.random.randn(10000, 1000)\n",
    "start_time = time.time()\n",
    "Q_large, R_large = la.qr(A_large, mode='economic')\n",
    "end_time = time.time()\n",
    "print(\"Time for QR decomposition on large matrix: {:.2f} seconds\".format(end_time - start_time))\n",
    "\n",
    "## max error in orthogonality (Q'*Q should be close to identity)\n",
    "error = np.max(np.abs(np.dot(Q_large.T, Q_large) - np.eye(1000)))\n",
    "print(\"Maximum error in orthogonality (Q'*Q - I):\", error)"
   ]
  },
  {
   "cell_type": "code",
   "execution_count": null,
   "id": "b1ca0408-5b07-4b46-a274-35fe15e5eafb",
   "metadata": {},
   "outputs": [],
   "source": []
  }
 ],
 "metadata": {
  "kernelspec": {
   "display_name": "Python 3 (ipykernel)",
   "language": "python",
   "name": "python3"
  },
  "language_info": {
   "codemirror_mode": {
    "name": "ipython",
    "version": 3
   },
   "file_extension": ".py",
   "mimetype": "text/x-python",
   "name": "python",
   "nbconvert_exporter": "python",
   "pygments_lexer": "ipython3",
   "version": "3.10.12"
  }
 },
 "nbformat": 4,
 "nbformat_minor": 5
}
