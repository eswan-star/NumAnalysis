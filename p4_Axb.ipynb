{
 "cells": [
  {
   "cell_type": "markdown",
   "id": "24484790-f73d-41f6-920d-23b7bc550186",
   "metadata": {},
   "source": [
    "<div style=\"background-color:maroon; padding:10px;\">\n",
    "</div>\n",
    "\n",
    "# AM 205 - Advanced Scientific Computing: Numerical Methods\n",
    "<div style=\"background-color:maroon; padding:10px;\">\n",
    "</div>"
   ]
  },
  {
   "cell_type": "markdown",
   "id": "0065ca1d-39e7-4b99-b00c-571c4f6c1103",
   "metadata": {},
   "source": [
    "**Harvard University**<br/>\n",
    "**Fall 2024**<br/>\n",
    "**Instructors**: Prof. Nick Trefethen<br/>\n",
    "**Author**: Elaine Swanson"
   ]
  },
  {
   "cell_type": "markdown",
   "id": "e0fa50b0-8a9d-4b4c-8e7f-bd85e2d6da33",
   "metadata": {},
   "source": [
    "### 1. **p4_Axb.m** condition number controls accuracy\n",
    "####  The condition number of a matrix provides a measure of how sensitive the solution of the linear system is to small changes in the input data. A high condition number means the matrix is ill-conditioned, leading to potential numerical instability when solving the system.\n",
    "\n",
    "- Random Matrices: By calculating the condition numbers for random matrices, this code explores how the randomness and sizes of the matrices impact the condition number.\n",
    "- Powers of Matrices: Raising a matrix to a power can lead to significant changes in its condition number, as seen in the cases where the random matrices are raised to the 6th power.\n",
    "- Special Matrix Structures: The identity matrix plus or minus an upper triangular matrix is a common structure in numerical algorithms. Analyzing the condition number and accuracy of these structures provides insight into the stability of linear systems involving such matrices.\n",
    "\n",
    "- Residual Norms: The norm of the residual $∥A⋅x−b∥$ checks how accurately the system was solved. A small norm indicates that the solution is very close to the actual solution, while a large norm indicates potential numerical errors or instability.\n",
    "\n",
    "This type of analysis is important in numerical linear algebra to understand how well different types of matrices behave when solving systems of linear equations."
   ]
  },
  {
   "cell_type": "code",
   "execution_count": 1,
   "id": "d699635d-e145-4764-a143-37bf547833d0",
   "metadata": {},
   "outputs": [],
   "source": [
    "import numpy as np\n",
    "from numpy.linalg import cond, norm, solve"
   ]
  },
  {
   "cell_type": "code",
   "execution_count": 2,
   "id": "4913928b-ff5a-4ce7-945c-eeb1a4a48fd4",
   "metadata": {},
   "outputs": [
    {
     "name": "stdout",
     "output_type": "stream",
     "text": [
      "Condition number of A: 12.691820146494734\n",
      "Norm of (A*x - b): 1.2994827337208943e-15 \n",
      "\n",
      "Condition number of A^6: 2132.5649034093744\n",
      "Norm of (A*x - b): 5.661048867003676e-16 \n",
      "\n",
      "Condition number of A (1000x1000): 1381.1681402938136\n",
      "Norm of (A*x - b): 8.103020183491716e-12 \n",
      "\n",
      "Condition number of A^6 (1000x1000): 17391.860635910754\n",
      "Norm of (A*x - b): 2.6050767118969706e-12 \n",
      "\n",
      "Condition number of A (eye(6) + triu(ones)):  8.055156450048106\n",
      "Norm of (A*x - b): 0.0 \n",
      "\n",
      "Condition number of A (eye(6) - triu(ones)):  69.8455898622608\n",
      "Norm of (A*x - b): 0.0 \n",
      "\n",
      "Condition number of A (eye(60) + triu(ones)):  77.00719328392653\n",
      "Norm of (A*x - b): 0.0 \n",
      "\n",
      "Condition number of A (eye(60) - triu(ones)):  9.498235803064107e+18\n",
      "Norm of (A*x - b): 72.20803279414278 \n",
      "\n"
     ]
    }
   ],
   "source": [
    "## random 6x6 matrix\n",
    "A = np.random.randn(6, 6)\n",
    "print(\"Condition number of A:\", cond(A))\n",
    "b = np.ones(len(A))\n",
    "x = solve(A, b)\n",
    "print(\"Norm of (A*x - b):\", norm(A @ x - b), '\\n')\n",
    "\n",
    "## same 6x6 matrix raised to the power of 6\n",
    "A = A**6\n",
    "print(\"Condition number of A^6:\", cond(A))\n",
    "x = solve(A, b)\n",
    "print(\"Norm of (A*x - b):\", norm(A @ x - b), '\\n')\n",
    "\n",
    "## random 1000x1000 matrix\n",
    "A = np.random.randn(1000, 1000)\n",
    "print(\"Condition number of A (1000x1000):\", cond(A))\n",
    "b = np.ones(len(A))\n",
    "x = solve(A, b)\n",
    "print(\"Norm of (A*x - b):\", norm(A @ x - b), '\\n')\n",
    "\n",
    "## same 1000x1000 matrix raised to the power of 6\n",
    "A = A**6\n",
    "print(\"Condition number of A^6 (1000x1000):\", cond(A))\n",
    "x = solve(A, b)\n",
    "print(\"Norm of (A*x - b):\", norm(A @ x - b), '\\n')\n",
    "\n",
    "## matrix with identity and upper triangular ones (6x6)\n",
    "A = np.eye(6) + np.triu(np.ones((6, 6)), 1)\n",
    "print(\"Condition number of A (eye(6) + triu(ones)): \", cond(A))\n",
    "b = np.ones(len(A))\n",
    "x = solve(A, b)\n",
    "print(\"Norm of (A*x - b):\", norm(A @ x - b), '\\n')\n",
    "\n",
    "## matrix with identity minus upper triangular ones (6x6)\n",
    "A = np.eye(6) - np.triu(np.ones((6, 6)), 1)\n",
    "print(\"Condition number of A (eye(6) - triu(ones)): \", cond(A))\n",
    "x = solve(A, b)\n",
    "print(\"Norm of (A*x - b):\", norm(A @ x - b), '\\n')\n",
    "\n",
    "## matrix with identity and upper triangular ones (60x60)\n",
    "A = np.eye(60) + np.triu(np.ones((60, 60)), 1)\n",
    "print(\"Condition number of A (eye(60) + triu(ones)): \", cond(A))\n",
    "b = np.ones(len(A))\n",
    "x = solve(A, b)\n",
    "print(\"Norm of (A*x - b):\", norm(A @ x - b), '\\n')\n",
    "\n",
    "## matrix with identity minus upper triangular ones (60x60)\n",
    "A = np.eye(60) - np.triu(np.ones((60, 60)), 1)\n",
    "print(\"Condition number of A (eye(60) - triu(ones)): \", cond(A))\n",
    "x = solve(A, b)\n",
    "print(\"Norm of (A*x - b):\", norm(A @ x - b), '\\n')"
   ]
  }
 ],
 "metadata": {
  "kernelspec": {
   "display_name": "Python 3 (ipykernel)",
   "language": "python",
   "name": "python3"
  },
  "language_info": {
   "codemirror_mode": {
    "name": "ipython",
    "version": 3
   },
   "file_extension": ".py",
   "mimetype": "text/x-python",
   "name": "python",
   "nbconvert_exporter": "python",
   "pygments_lexer": "ipython3",
   "version": "3.10.12"
  }
 },
 "nbformat": 4,
 "nbformat_minor": 5
}
