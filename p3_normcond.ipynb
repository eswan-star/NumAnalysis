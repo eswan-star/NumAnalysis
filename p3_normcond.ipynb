{
 "cells": [
  {
   "cell_type": "markdown",
   "id": "9c97f63c-7206-4219-a10e-68088b64036b",
   "metadata": {},
   "source": [
    "<div style=\"background-color:maroon; padding:10px;\">\n",
    "</div>\n",
    "\n",
    "# AM 205 - Advanced Scientific Computing: Numerical Methods\n",
    "<div style=\"background-color:maroon; padding:10px;\">\n",
    "</div>"
   ]
  },
  {
   "cell_type": "markdown",
   "id": "e228e4df-5f66-4c1a-b647-4cc43e77466d",
   "metadata": {},
   "source": [
    "**Harvard University**<br/>\n",
    "**Fall 2024**<br/>\n",
    "**Instructors**: Prof. Nick Trefethen<br/>\n",
    "**Author**: Elaine Swanson"
   ]
  },
  {
   "cell_type": "markdown",
   "id": "364ed1b8-f653-47c9-8818-40e806e025ab",
   "metadata": {},
   "source": [
    "### 1. **p3_normcond** exploring norms and condition numbers.\n",
    "#### The purpose of this code is to explore different vector and matrix norms and compute condition numbers to assess numerical stability. It calculates norms like the 1-norm, 2-norm, infinity norm, and Frobenius norm for vectors and matrices. The code also examines how condition numbers indicate the sensitivity of a matrix to input changes, which can affect the accuracy of numerical solutions. This analysis is essential for understanding the stability and performance of algorithms in linear algebra.\n",
    "[Check this page out.](https://www.google.com/url?sa=i&url=https%3A%2F%2Fmedium.com%2F%40bpchiv%2Fvisualizing-the-circles-of-p-norms-ab99411404a9&psig=AOvVaw1QhsKpDDL9XfHIpsk8YrzH&ust=1725930783174000&source=images&cd=vfe&opi=89978449&ved=0CAMQjB1qFwoTCIiZnvjYtIgDFQAAAAAdAAAAABAE)\n"
   ]
  },
  {
   "cell_type": "markdown",
   "id": "bb52adf4-44ae-4d35-87cb-cee9e24bf66c",
   "metadata": {},
   "source": [
    "#### A **norm** is a mathematical function that measures the size, length, or magnitude of a vector or matrix. It provides a way to quantify how large an object is in a given space, and different types of norms (such as 1-norm, 2-norm, and infinity-norm) measure this size in different ways. Norms are widely used in linear algebra, optimization, and numerical analysis to understand the behavior of vectors and matrices. For more details, see the [NumPy documentation on `numpy.linalg.norm`](https://numpy.org/doc/stable/reference/generated/numpy.linalg.norm.html).\n",
    "\n",
    "\n",
    "- **p-norm**: \n",
    "  - A generalized norm where $ p $ is a positive real number.\n",
    "  - Formula: $ \\|x\\|_p = \\left( \\sum_{i=1}^{n} |x_i|^p \\right)^{\\frac{1}{p}} $\n",
    "  - As $ p \\to \\infty $, the p-norm approaches the infinity-norm, and when $ p = 1 $ or $ p = 2 $, it becomes the 1-norm or 2-norm, respectively.\n",
    "  \n",
    "- **1-norm (Manhattan norm)**: \n",
    "  - The sum of the absolute values of the vector's elements.\n",
    "  - Formula: $ \\|x\\|_1 = \\sum_{i=1}^{n} |x_i| $\n",
    "  - Measures the total distance traveled along the axes.\n",
    "\n",
    "- **2-norm (Euclidean norm)**: \n",
    "  - The square root of the sum of the squares of the vector's elements.\n",
    "  - Formula: $ \\|x\\|_2 = \\left( \\sum_{i=1}^{n} |x_i|^2 \\right)^{\\frac{1}{2}} $\n",
    "  - Represents the straight-line distance from the origin to the vector.\n",
    "\n",
    "- **Infinity-norm (Maximum norm)**: \n",
    "  - The maximum absolute value of the vector's elements.\n",
    "  - Formula: $ \\|x\\|_\\infty = \\max_i |x_i| $\n",
    "  - Measures the largest contribution from any single element."
   ]
  },
  {
   "cell_type": "code",
   "execution_count": 3,
   "id": "bfa4564c-aa1c-45eb-8c66-ede874d0d063",
   "metadata": {},
   "outputs": [],
   "source": [
    "## imports\n",
    "import numpy as np\n",
    "from numpy.linalg import norm, cond"
   ]
  },
  {
   "cell_type": "code",
   "execution_count": 11,
   "id": "26aa2a63-8552-45ec-a77a-3e1e7fdf832d",
   "metadata": {},
   "outputs": [
    {
     "name": "stdout",
     "output_type": "stream",
     "text": [
      "Norm of x (1-norm): 10.0\n",
      "Norm of x (2-norm): 3.1622776601683795\n",
      "Norm of x (inf-norm): 1.0\n",
      "100-norm of x: 1.023292992280754\n",
      " \n",
      "Norm of x (1-norm): 500356.3403102932\n",
      "Norm of x (2-norm): 577.6760887376779\n",
      "sqrt(1e6 / 3) as an approximation to 2-norm: 577.3502691896257\n",
      "Norm of x (inf-norm): 0.999998847552635\n",
      " \n",
      "Norm of x (1-norm): 797642.1579027764\n",
      "Norm of x (2-norm): 999.7125296931789\n",
      "Norm of x (inf-norm): 5.002571332186473\n"
     ]
    }
   ],
   "source": [
    "## create a 10 digit vector of ones \n",
    "x = np.ones((10, 1))\n",
    "print(\"Norm of x (1-norm):\", norm(x, ord=1))  \n",
    "print(\"Norm of x (2-norm):\", norm(x)) # default is 2-norm\n",
    "print(\"Norm of x (inf-norm):\", norm(x, ord=np.inf))  \n",
    "## calculate 100-norm manually (see np.linalg.norm documentation for reason)\n",
    "p = 100\n",
    "norm_100 = (np.sum(np.abs(x)**p))**(1/p)\n",
    "print(\"100-norm of x:\", norm_100) \n",
    "print(' ')\n",
    "\n",
    "## large random vector norms of size 1 million\n",
    "## each element is drawn from a uniform distribution over the interval [0, 1]\n",
    "x = np.random.rand(int(1e6), 1)  \n",
    "print(\"Norm of x (1-norm):\", norm(x, 1))  \n",
    "print(\"Norm of x (2-norm):\", norm(x))  \n",
    "print(\"sqrt(1e6 / 3) as an approximation to 2-norm:\", np.sqrt(1e6 / 3)) # this is from the Law of Large numbers and expected value of a uniform distribution\n",
    "print(\"Norm of x (inf-norm):\", norm(x, np.inf))  \n",
    "print(' ')\n",
    "\n",
    "## large random vector norms \n",
    "## drawn from a Gaussian distribution (mean=0, std=1)\n",
    "## 1 million elements as well\n",
    "x = np.random.randn(int(1e6), 1)  \n",
    "print(\"Norm of x (1-norm):\", norm(x, 1))  \n",
    "print(\"Norm of x (2-norm):\", norm(x))  \n",
    "print(\"Norm of x (inf-norm):\", norm(x, np.inf))  "
   ]
  },
  {
   "cell_type": "markdown",
   "id": "69ff6391-78e6-4a99-afcc-b15757a7f76a",
   "metadata": {},
   "source": [
    "### p-norm for a matrix:\n",
    "\n",
    "The $p$-norm of a matrix $A$ is defined as:\n",
    "\n",
    "$\n",
    "\\|A\\|_p = \\left( \\sum_{i=1}^{m} \\sum_{j=1}^{n} |a_{ij}|^p \\right)^{\\frac{1}{p}}\n",
    "$\n",
    "\n",
    "Where:\n",
    "- $A$ is an $m \\times n$ matrix.\n",
    "- $a_{ij}$ are the elements of the matrix $A$.\n",
    "- $p$ is a positive real number.\n",
    "- **Matrix 1-norm** = the max abs value column sum  of the matrix\n",
    "- **Matrix inf-norm** = the max abs value row sum of the matrix\n",
    "\n",
    "### Frobenius norm for a matrix:\n",
    "\n",
    "The Frobenius norm of a matrix $A$ is a special case of the $p$-norm where $p = 2$. It is defined as:\n",
    "\n",
    "$\n",
    "\\|A\\|_F = \\left( \\sum_{i=1}^{m} \\sum_{j=1}^{n} |a_{ij}|^2 \\right)^{\\frac{1}{2}}\n",
    "$\n",
    "or equivalently:\n",
    "\n",
    "$\n",
    "\\|A\\|_F = \\sqrt{\\sum_{i=1}^{m} \\sum_{j=1}^{n} a_{ij}^2}\n",
    "$"
   ]
  },
  {
   "cell_type": "code",
   "execution_count": 13,
   "id": "fe8bede2-9f71-4234-a64e-53a46f0a5a7c",
   "metadata": {},
   "outputs": [
    {
     "name": "stdout",
     "output_type": "stream",
     "text": [
      "Norm of A (1-norm): 13.0\n",
      "Norm of A (2-norm): 10.723805294763608\n",
      "Norm of A (inf-norm): 14.0\n",
      "Norm of A (100-norm): 1.533256839157227\n",
      "Frobenius norm of A: 10.723805294763608\n"
     ]
    }
   ],
   "source": [
    "## matrix norms\n",
    "A = np.array([[1, 1, 1], [1, 2, 3], [1, 4, 9]]) \n",
    "print(\"Norm of A (1-norm):\", norm(A, 1)) \n",
    "print(\"Norm of A (2-norm):\", norm(A)) \n",
    "print(\"Norm of A (inf-norm):\", norm(A, np.inf))  \n",
    "## manually compute the 100-norm\n",
    "p = 100\n",
    "norm_p = (np.sum(np.abs(A)**p))**(1/p)\n",
    "print(\"Norm of A (100-norm):\", norm_p)\n",
    "print(\"Frobenius norm of A:\", norm(A, 'fro'))  "
   ]
  },
  {
   "cell_type": "markdown",
   "id": "4af17f36-41e2-4e19-afaa-7afa39bbc157",
   "metadata": {},
   "source": [
    "The **condition number** of a matrix quantifies how sensitive the solution of a system of linear equations is to small changes or errors in the matrix or the right-hand side vector. It is typically calculated as the ratio of the largest singular value to the smallest singular value of the matrix. A matrix with a small condition number (close to 1) is considered well-conditioned, meaning small changes in input result in small changes in the output. A matrix with a large condition number is ill-conditioned, indicating that small errors in the input can cause large deviations in the solution, potentially leading to numerical instability.\n",
    "**See Section 2.3.3 of Heath Book.**"
   ]
  },
  {
   "cell_type": "code",
   "execution_count": 15,
   "id": "018ba151-e4f8-46ca-98b4-7e114a5d75d5",
   "metadata": {},
   "outputs": [
    {
     "name": "stdout",
     "output_type": "stream",
     "text": [
      "Condition number of A (1-norm): 104.00000000000003\n",
      "Condition number of A (2-norm): 70.9231338066788\n",
      "Condition number of A (inf-norm): 112.00000000000003\n",
      "Condition number of random matrix (size 100): 562.8579690714014\n",
      "Condition number of upper triangular random matrix: 3.519697497375049e+17\n"
     ]
    }
   ],
   "source": [
    "## condition numbers\n",
    "print(\"Condition number of A (1-norm):\", cond(A, 1)) \n",
    "print(\"Condition number of A (2-norm):\", cond(A))  \n",
    "print(\"Condition number of A (inf-norm):\", cond(A, np.inf)) \n",
    "\n",
    "## cond numbers of random matrices\n",
    "print(\"Condition number of random matrix (size 100):\", cond(np.random.randn(100, 100)))  \n",
    "print(\"Condition number of upper triangular random matrix:\", cond(np.triu(np.random.randn(100, 100))))  "
   ]
  }
 ],
 "metadata": {
  "kernelspec": {
   "display_name": "Python 3 (ipykernel)",
   "language": "python",
   "name": "python3"
  },
  "language_info": {
   "codemirror_mode": {
    "name": "ipython",
    "version": 3
   },
   "file_extension": ".py",
   "mimetype": "text/x-python",
   "name": "python",
   "nbconvert_exporter": "python",
   "pygments_lexer": "ipython3",
   "version": "3.10.12"
  }
 },
 "nbformat": 4,
 "nbformat_minor": 5
}
