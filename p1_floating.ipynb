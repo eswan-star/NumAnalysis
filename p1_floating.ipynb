{
 "cells": [
  {
   "cell_type": "markdown",
   "id": "9bc6393e-c0a5-42d4-9726-66e0b67c7384",
   "metadata": {},
   "source": [
    "<div style=\"background-color:maroon; padding:10px;\">\n",
    "</div>\n",
    "\n",
    "# AM 205 - Advanced Scientific Computing: Numerical Methods\n",
    "<div style=\"background-color:maroon; padding:10px;\">\n",
    "</div>\n"
   ]
  },
  {
   "cell_type": "markdown",
   "id": "074b8a69-2797-4b86-bfdb-11e17e0377e1",
   "metadata": {},
   "source": [
    "**Harvard University**<br/>\n",
    "**Fall 2024**<br/>\n",
    "**Instructors**: Prof. Nick Trefethen<br/>\n",
    "**Author**: Elaine Swanson"
   ]
  },
  {
   "cell_type": "code",
   "execution_count": 1,
   "id": "50c01020-dfff-43b3-979c-e98d1be02097",
   "metadata": {},
   "outputs": [],
   "source": [
    "## import packages\n",
    "import numpy as np\n",
    "import matplotlib.pyplot as plt\n",
    "import sympy as sp\n",
    "from sympy import pi"
   ]
  },
  {
   "cell_type": "markdown",
   "id": "564ee7c9-795c-4772-ba2c-8c5ba7ee5c76",
   "metadata": {},
   "source": [
    "### 1. **p1_floating.m** Playing with floating point and symbolic arithmetic\n",
    "#### The printouts below highlight the nature of floating-point arithmetic in Python. These are simple exercises, but they underscore the importance of understanding how floating-point numbers are represented and manipulated in computer systems. Even small errors due to rounding or precision limitations can accumulate and lead to unexpected results, particularly in iterative calculations, large-scale computations, or applications requiring high precision. "
   ]
  },
  {
   "cell_type": "code",
   "execution_count": 2,
   "id": "c1bf2998-3f86-42a3-a139-93ba3e73c6bb",
   "metadata": {},
   "outputs": [
    {
     "name": "stdout",
     "output_type": "stream",
     "text": [
      "1/4096 = 0.000244140625\n",
      "4096 * res1 = 1.0 , We see what we expect.\n",
      "1/49 = 0.02040816326530612\n",
      "49 * res3 = 0.9999999999999999 , Not quite 1.0. Why?\n",
      "res4 - 1 = -1.1102230246251565e-16\n",
      "2^-53 = 1.1102230246251565e-16\n",
      "Does the abs value of res5 == abs value of res6? True\n",
      "The above have the same absolute value. What does this mean? Why is 2^-53 significant?\n"
     ]
    }
   ],
   "source": [
    "res1 = 1/4096\n",
    "print(\"1/4096 =\",res1)\n",
    "\n",
    "res2 = 4096 * res1\n",
    "print(\"4096 * res1 =\", res2, \", We see what we expect.\")\n",
    "\n",
    "res3 = 1/49\n",
    "print(\"1/49 =\", res3)\n",
    "\n",
    "res4 = 49 * res3\n",
    "print(\"49 * res3 =\", res4, \", Not quite 1.0. Why?\")\n",
    "\n",
    "res5 = res4 - 1\n",
    "print(\"res4 - 1 =\", res5)\n",
    "\n",
    "res6 = 2**-53\n",
    "print(\"2^-53 =\", res6)\n",
    "\n",
    "print(\"Does the abs value of res5 == abs value of res6?\", abs(res5) == abs(res6))\n",
    "print(\"The above have the same absolute value. What does this mean? Why is 2^-53 significant?\")"
   ]
  },
  {
   "cell_type": "code",
   "execution_count": 3,
   "id": "d5c389ab-dbd9-499d-86e0-733633d37e38",
   "metadata": {},
   "outputs": [
    {
     "name": "stdout",
     "output_type": "stream",
     "text": [
      "Sqr root of 1/2 = 0.7071067811865476\n",
      "Undoing the square root and subtracting the original = 1.1102230246251565e-16 , This is not what we expect. Why?\n",
      "Sqr root of 1/4 = 0.5\n",
      "Undoing the square root and subtracting the original = 0.0 , This is what we expect. Why?\n"
     ]
    }
   ],
   "source": [
    "res7 = np.sqrt(1/2)\n",
    "print(\"Sqr root of 1/2 =\", res7)\n",
    "\n",
    "res8 = res7**2 - 1/2\n",
    "print(\"Undoing the square root and subtracting the original =\", res8, \", This is not what we expect. Why?\")\n",
    "\n",
    "res9 = np.sqrt(1/4)\n",
    "print(\"Sqr root of 1/4 =\", res9)\n",
    "\n",
    "res10 = res9**2 - 1/4\n",
    "print(\"Undoing the square root and subtracting the original =\", res10, \", This is what we expect. Why?\")"
   ]
  },
  {
   "cell_type": "code",
   "execution_count": 4,
   "id": "dc625bb4-ef2e-4657-9fa3-437add1d679b",
   "metadata": {},
   "outputs": [
    {
     "name": "stdout",
     "output_type": "stream",
     "text": [
      "sin(0) = 0.0\n",
      "pi = 3.141592653589793\n",
      "sin(pi) = 1.2246467991473532e-16 Not what we expect. Why?\n",
      "sin(1000*pi) = -3.2141664592756335e-13 Also not what we expect. Why?\n",
      "sin(massive # * pi) = -0.3940709604247648 , Even farther than what we expect. Why?\n"
     ]
    }
   ],
   "source": [
    "res11 = np.sin(0)\n",
    "print(\"sin(0) =\", res11)\n",
    "\n",
    "res12 = np.pi\n",
    "print(\"pi =\", res12)\n",
    "\n",
    "res13 = np.sin(np.pi)\n",
    "print(\"sin(pi) =\", res13, \"Not what we expect. Why?\")\n",
    "\n",
    "res14 = np.sin(1000*np.pi)\n",
    "print(\"sin(1000*pi) =\", res14, \"Also not what we expect. Why?\")\n",
    "\n",
    "res15 = np.sin(1e20*np.pi)\n",
    "print(\"sin(massive # * pi) =\", res15, \", Even farther than what we expect. Why?\")"
   ]
  },
  {
   "cell_type": "code",
   "execution_count": 5,
   "id": "10fbaf68-2997-401b-9bcf-d2c7d1add247",
   "metadata": {},
   "outputs": [
    {
     "name": "stdout",
     "output_type": "stream",
     "text": [
      "1/0 = division by zero\n",
      "1/inf = 0.0 , What we expect.\n",
      "1/inf + 2/3 = 0.6666666666666666 , What we expect.\n",
      "0/0 = division by zero\n",
      "Any number * NaN is also = nan\n",
      "A Massive Number = 8.98846567431158e+307 \n",
      "\n",
      "Increment one number larger: OverflowError: (34, 'Numerical result out of range') \n",
      "\n",
      "A tiny number = 5.562684646268003e-309 , Why is this also not out of range?\n",
      "Also a tiny number = 5e-324\n",
      "One increment smaller = 0.0\n"
     ]
    }
   ],
   "source": [
    "# 1/0 (will cause an error in Python)\n",
    "try:\n",
    "    res16 = 1/0\n",
    "except ZeroDivisionError as e:\n",
    "    print(\"1/0 =\", e)\n",
    "\n",
    "res17 = 1/np.inf\n",
    "print(\"1/inf =\", res17, \", What we expect.\")\n",
    "\n",
    "res18 = 1/np.inf + 2/3\n",
    "print(\"1/inf + 2/3 =\", res18, \", What we expect.\")\n",
    "\n",
    "try:\n",
    "    res19 = 0/0\n",
    "except ZeroDivisionError as e:\n",
    "    print(\"0/0 =\",e)\n",
    "\n",
    "res20 = 3*np.nan\n",
    "print(\"Any number * NaN is also =\", res20)\n",
    "\n",
    "## let's find out Python's capability to handle huge numbers\n",
    "\n",
    "res21 = 2.0**1023\n",
    "print(\"A Massive Number =\", res21, \"\\n\")\n",
    "\n",
    "try:\n",
    "    # Attempt to calculate 2.0**1024, which is beyond the floating-point range\n",
    "    res22 = 2.0**1024\n",
    "except OverflowError as e:\n",
    "    print(\"Increment one number larger: OverflowError:\", e, \"\\n\")\n",
    "\n",
    "## let's find out Python's capability to handle tiny numbers\n",
    "\n",
    "res23 = 2.0**-1024\n",
    "print(\"A tiny number =\", res23, \", Why is this also not out of range?\")\n",
    "\n",
    "res24 = 2.0**-1074\n",
    "print(\"Also a tiny number =\", res24)\n",
    "\n",
    "res25 = 2.0**-1075\n",
    "print(\"One increment smaller =\", res25)"
   ]
  },
  {
   "cell_type": "code",
   "execution_count": 9,
   "id": "9399fd98-aee1-436e-9655-c7855fe810fb",
   "metadata": {},
   "outputs": [
    {
     "name": "stdout",
     "output_type": "stream",
     "text": [
      "Does not print out the decimal version = 1/49\n",
      "<class 'sympy.core.numbers.Rational'>\n",
      "49 * 1/49 - 1 = 0 , What we expect.\n",
      "sqrt(1/2) = sqrt(2)/2\n",
      "Undoing sqrt - 1/2 = 0 , What we expect.\n",
      "pi = pi\n",
      "Massive even number * pi = 100000000000000000000*pi\n",
      "sin(pi * 1e20) = 0 , This is what we expect and differs from the calculation two cells up.\n",
      "Two decimals added = 1.0691289393697008\n",
      "Two fractions added = 53465/50008\n",
      "Change to float = 1.0691289393697008\n",
      "High Precision = 1.06912893936970\n",
      "50 digit = 1.0691289393697008478643417053271476563749800031995\n",
      "Time elapsed: 0.407322 seconds\n",
      "Did this go faster? Time elapsed: 0.321263 seconds , Most likely, yes!\n",
      "<class 'sympy.matrices.dense.MutableDenseMatrix'>\n",
      "\n",
      " Patience, computing...\n",
      "Computation took too long.\n",
      "Computation was interrupted. Time elapsed: 15.000300 seconds\n"
     ]
    }
   ],
   "source": [
    "## equivalent to str2sym('1/49') in MATLAB using SymPy. Does not print out the decimal version\n",
    "sym_res26 = sp.Rational(1, 49)\n",
    "print(\"Does not print out the decimal version =\", sym_res26)\n",
    "\n",
    "## \"whos\" equivalent in Python is simply checking the type of variable\n",
    "print(type(sym_res26))\n",
    "\n",
    "sym_res27 = 49 * sym_res26 - 1\n",
    "print(\"49 * 1/49 - 1 =\", sym_res27, \", What we expect.\")\n",
    "\n",
    "sym_res28 = sp.sqrt(sp.Rational(1, 2))\n",
    "print(\"sqrt(1/2) =\", sym_res28)\n",
    "\n",
    "sym_res29 = sym_res28**2 - sp.Rational(1, 2)\n",
    "print(\"Undoing sqrt - 1/2 =\", sym_res29, \", What we expect.\")\n",
    "\n",
    "sym_res30 = sp.pi\n",
    "print(\"pi =\", sym_res30)\n",
    "\n",
    "sym_res31 = sp.pi * sp.Rational(1e20)\n",
    "print(\"Massive even number * pi =\", sym_res31)\n",
    "\n",
    "sym_res32 = sp.sin(sym_res31)\n",
    "print(\"sin(pi * 1e20) =\", sym_res32, \", This is what we expect and differs from the calculation two cells up.\")\n",
    "\n",
    "res33 = 123/456 + 789/987\n",
    "print(\"Two decimals added =\",  res33)\n",
    "\n",
    "sym_res34 = sp.Rational(123, 456) + sp.Rational(789, 987)\n",
    "print(\"Two fractions added =\", sym_res34)\n",
    "\n",
    "a = sym_res34\n",
    "\n",
    "res35 = float(a)\n",
    "print(\"Change to float =\", res35)\n",
    "\n",
    "## vpa(a) is equivalent to evaluating the expression in 64 bit precision in Python\n",
    "res36 = sp.N(a)\n",
    "print(\"High Precision =\", res36)\n",
    "\n",
    "## vpa(a,50) for evaluating with 50 digits of precision\n",
    "res37 = sp.N(a, 50)\n",
    "print(\"50 digit =\", res37)\n",
    "\n",
    "## A = randn(100) equivalent\n",
    "A = np.random.randn(100, 100)\n",
    "\n",
    "## tic, e = eig(A); toc equivalent in Python\n",
    "import time\n",
    "start_time = time.time()\n",
    "e = np.linalg.eigvals(A)\n",
    "end_time = time.time()\n",
    "print(\"Time elapsed: {:.6f} seconds\".format(end_time - start_time))\n",
    "\n",
    "## run it again to see if it is faster\n",
    "start_time = time.time()\n",
    "e = np.linalg.eigvals(A)\n",
    "end_time = time.time()\n",
    "print(\"Did this go faster? Time elapsed: {:.6f} seconds\".format(end_time - start_time), \", Most likely, yes!\")\n",
    "\n",
    "# AA = vpa(A) is translating A to symbolic in MATLAB\n",
    "AA = sp.Matrix(A)\n",
    "\n",
    "print(type(AA))\n",
    "\n",
    "import signal\n",
    "\n",
    "## This is much more extensive than MATLAB's version\n",
    "## we have to define a handler that will raise an exception if the time limit is exceeded\n",
    "def timeout_handler(signum, frame):\n",
    "    raise TimeoutError(\"Computation took too long.\")\n",
    "\n",
    "## Register the handler with the signal module\n",
    "signal.signal(signal.SIGALRM, timeout_handler)\n",
    "\n",
    "# Set the timeout limit secs\n",
    "timeout_seconds = 15\n",
    "\n",
    "try:\n",
    "    print(\"\\n Patience, computing...\")\n",
    "\n",
    "    ## start the alarm clock\n",
    "    signal.alarm(timeout_seconds)\n",
    "\n",
    "    ## start the computation\n",
    "    start_time = time.time()\n",
    "    ee = AA.eigenvals()  # This is your symbolic computation\n",
    "    end_time = time.time()\n",
    "\n",
    "    ## cancel the alarm if the computation finishes in time\n",
    "    signal.alarm(0)\n",
    "\n",
    "    print(\"Time elapsed for symbolic eigenvalues: {:.6f} seconds\".format(end_time - start_time))\n",
    "\n",
    "except TimeoutError as e:\n",
    "    print(e)  ## outputing the timeout error\n",
    "    end_time = time.time()\n",
    "    print(\"Computation was interrupted. Time elapsed: {:.6f} seconds\".format(end_time - start_time))\n",
    "\n",
    "finally:\n",
    "    ## always cancel the alarm \n",
    "    signal.alarm(0)"
   ]
  },
  {
   "cell_type": "code",
   "execution_count": null,
   "id": "16c31def-44ca-4e2c-92d6-3e166fc30a73",
   "metadata": {},
   "outputs": [],
   "source": []
  }
 ],
 "metadata": {
  "kernelspec": {
   "display_name": "Python 3 (ipykernel)",
   "language": "python",
   "name": "python3"
  },
  "language_info": {
   "codemirror_mode": {
    "name": "ipython",
    "version": 3
   },
   "file_extension": ".py",
   "mimetype": "text/x-python",
   "name": "python",
   "nbconvert_exporter": "python",
   "pygments_lexer": "ipython3",
   "version": "3.10.12"
  }
 },
 "nbformat": 4,
 "nbformat_minor": 5
}
